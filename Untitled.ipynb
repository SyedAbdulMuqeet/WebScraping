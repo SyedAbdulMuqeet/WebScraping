{
 "cells": [
  {
   "cell_type": "code",
   "execution_count": 6,
   "metadata": {},
   "outputs": [],
   "source": [
    "import bs4\n",
    "from urllib.request import urlopen as uReq\n",
    "from urllib.request import Request\n",
    "from bs4 import BeautifulSoup as soup"
   ]
  },
  {
   "cell_type": "code",
   "execution_count": null,
   "metadata": {},
   "outputs": [],
   "source": [
    "my_url = 'https://www.newegg.com/Laptops-Notebooks/Category/ID-223'"
   ]
  },
  {
   "cell_type": "markdown",
   "metadata": {},
   "source": [
    "opening up connection, grabbing the page"
   ]
  },
  {
   "cell_type": "code",
   "execution_count": 14,
   "metadata": {},
   "outputs": [],
   "source": [
    "uClient = uReq(my_url)\n",
    "\n"
   ]
  },
  {
   "cell_type": "code",
   "execution_count": 15,
   "metadata": {},
   "outputs": [],
   "source": [
    "page_html = uClient.read()"
   ]
  },
  {
   "cell_type": "code",
   "execution_count": 16,
   "metadata": {},
   "outputs": [],
   "source": [
    "uClient.close()"
   ]
  },
  {
   "cell_type": "raw",
   "metadata": {},
   "source": [
    "html parsing"
   ]
  },
  {
   "cell_type": "code",
   "execution_count": 18,
   "metadata": {},
   "outputs": [],
   "source": [
    "page_soup = soup(page_html, \"html.parser\")"
   ]
  },
  {
   "cell_type": "code",
   "execution_count": 19,
   "metadata": {},
   "outputs": [
    {
     "data": {
      "text/plain": [
       "<h1 class=\"page-title-text\">Laptops / Notebooks</h1>"
      ]
     },
     "execution_count": 19,
     "metadata": {},
     "output_type": "execute_result"
    }
   ],
   "source": [
    "page_soup.h1"
   ]
  },
  {
   "cell_type": "code",
   "execution_count": 20,
   "metadata": {},
   "outputs": [
    {
     "data": {
      "text/plain": [
       "<p>Newegg.com - A great place to buy computers, computer parts, electronics, software, accessories, and DVDs online. With great prices, fast shipping, and top-rated customer service - Newegg shopping upgraded ™</p>"
      ]
     },
     "execution_count": 20,
     "metadata": {},
     "output_type": "execute_result"
    }
   ],
   "source": [
    "page_soup.p\n"
   ]
  },
  {
   "cell_type": "code",
   "execution_count": null,
   "metadata": {},
   "outputs": [],
   "source": []
  },
  {
   "cell_type": "code",
   "execution_count": 21,
   "metadata": {},
   "outputs": [],
   "source": [
    "containers = page_soup.findAll(\"div\", {\"class\":\"item-container\"})"
   ]
  },
  {
   "cell_type": "code",
   "execution_count": 22,
   "metadata": {},
   "outputs": [
    {
     "data": {
      "text/plain": [
       "10"
      ]
     },
     "execution_count": 22,
     "metadata": {},
     "output_type": "execute_result"
    }
   ],
   "source": [
    "len(containers)"
   ]
  },
  {
   "cell_type": "code",
   "execution_count": 23,
   "metadata": {},
   "outputs": [
    {
     "data": {
      "text/plain": [
       "<div class=\"item-container \">\n",
       "<!--product image-->\n",
       "<a class=\"item-img\" href=\"https://www.newegg.com/Product/Product.aspx?Item=N82E16834234553&amp;ignorebbr=1\">\n",
       "<img alt='ASUS Laptop B9440UA-XS51 Intel Core i5 7th Gen 7200U (2.50 GHz) 8 GB LPDDR3 Memory 512 GB SSD Intel HD Graphics 620 14.0\" Windows 10 Pro 64-Bit' class=\" lazy-img\" data-effect=\"fadeIn\" data-src=\"//c1.neweggimages.com/NeweggImage/ProductImageCompressAll300/34-234-553-V14.jpg\" src=\"//c1.neweggimages.com/WebResource/Themes/2005/Nest/blank.gif\" title='ASUS Laptop B9440UA-XS51 Intel Core i5 7th Gen 7200U (2.50 GHz) 8 GB LPDDR3 Memory 512 GB SSD Intel HD Graphics 620 14.0\" Windows 10 Pro 64-Bit'>\n",
       "</img></a>\n",
       "<div class=\"item-info\">\n",
       "<!--brand info-->\n",
       "<div class=\"item-branding\">\n",
       "<a class=\"item-brand\" href=\"https://www.newegg.com/ASUS/BrandStore/ID-1315\">\n",
       "<img alt=\"ASUS\" class=\" lazy-img\" data-effect=\"fadeIn\" data-src=\"//c1.neweggimages.com/Brandimage_70x28//Brand1315.gif\" src=\"//c1.neweggimages.com/WebResource/Themes/2005/Nest/blank.gif\" title=\"ASUS\">\n",
       "</img></a>\n",
       "<!--rating info-->\n",
       "<a class=\"item-rating\" href=\"https://www.newegg.com/Product/Product.aspx?Item=N82E16834234553&amp;SortField=0&amp;SummaryType=0&amp;PageSize=10&amp;SelectedRating=-1&amp;VideoOnlyMark=False&amp;ignorebbr=1&amp;IsFeedbackTab=true#scrollFullInfo\" title=\"Rating + 4\"><i class=\"rating rating-4\"></i><span class=\"item-rating-num\">(9)</span></a>\n",
       "</div>\n",
       "<!--description info-->\n",
       "<a class=\"item-title\" href=\"https://www.newegg.com/Product/Product.aspx?Item=N82E16834234553&amp;ignorebbr=1\" title=\"View Details\"><i class=\"icon-premier icon-premier-xsm\"></i>ASUS PRO B9440 Ultra Thin and Light Business Laptop, 14\" Wideview Full HD Narrow Bezel Display, Intel Core i5-7200U 2.5 GHz Processor, 512 GB SSD, 8 GB RAM, Windows 10 Pro, Fingerprint</a>\n",
       "<!--promption info-->\n",
       "<p class=\"item-promo\"></p>\n",
       "<!--feature-->\n",
       "<ul class=\"item-features\">\n",
       "<li><strong>Type:</strong> Mainstream</li><li><strong>Resolution:</strong> 1920 x 1080</li><li><strong>Weight:</strong> 2.31 lbs.</li><li><strong>Graphics Card:</strong> Intel HD Graphics 620</li>\n",
       "<li><strong>Model #: </strong>B9440UA-XS51</li>\n",
       "<li><strong>Item #: </strong>N82E16834234553</li>\n",
       "</ul>\n",
       "<div class=\"item-action\">\n",
       "<!--price-->\n",
       "<ul class=\"price has-label-membership \">\n",
       "<li class=\"price-was\">\n",
       "       $999.99\n",
       "            <span class=\"price-was-data\" style=\"display: none\">999.99</span>\n",
       "</li>\n",
       "<li class=\"price-map\">\n",
       "</li>\n",
       "<li class=\"price-current\">\n",
       "<span class=\"price-current-label\">\n",
       "<a aria-label=\"Premier Price Explaination\" class=\"membership-info membership-popup\" data-neg-popid=\"MembershipPopup\" href=\"javascript:void(0);\" name=\"membership\" style=\"display: inline\"><span class=\"membership-icon\"></span><span style=\"display: none\">|</span></a>\n",
       "</span>$<strong>749</strong><sup>.99</sup> <a class=\"price-current-num\" href=\"https://www.newegg.com/Product/Product.aspx?Item=N82E16834234553&amp;buyingoptions=New&amp;ignorebbr=1\">(10 Offers)</a>\n",
       "<span class=\"price-current-range\">\n",
       "<abbr title=\"to\">–</abbr>\n",
       "</span>\n",
       "</li>\n",
       "<li class=\"price-save \">\n",
       "<span class=\"price-save-endtime price-save-endtime-current\"></span>\n",
       "<span class=\"price-save-endtime price-save-endtime-another\" style=\"display:none;\"></span>\n",
       "<span class=\"price-save-label\">Save: </span>\n",
       "<span class=\"price-save-dollar\"></span>\n",
       "<span class=\"price-save-percent\">25%</span>\n",
       "</li>\n",
       "<li class=\"price-note\">\n",
       "</li>\n",
       "<li class=\"price-ship\">\n",
       "        $2.99 Shipping\n",
       "    </li>\n",
       "</ul>\n",
       "<!--egg point-->\n",
       "<!--financing-->\n",
       "<!--button-->\n",
       "<div class=\"item-operate hidden-action-button \">\n",
       "<div class=\"item-button-area\">\n",
       "<button class=\"btn btn-mini \" onclick=\"Javascript:Biz.ProductList.Item.add('https://www.newegg.com/Product/Product.aspx?Item=N82E16834234553&amp;ignorebbr=1');\" title=\"View Details\" type=\"button\">View Details <i class=\"fa fa-caret-right\"></i></button>\n",
       "</div>\n",
       "<!--compare-->\n",
       "<div class=\"item-compare-box\">\n",
       "<label class=\"form-checkbox\">\n",
       "<input aria-labelledby=\"checkbox_compare\" autocomplete=\"off\" id=\"CompareItem_34-234-553\" name=\"CompareItem\" neg-itemnumber=\"34-234-553\" type=\"checkbox\" value=\"CompareItem_34-234-553\"/>\n",
       "<span class=\"form-checkbox-title\">Compare</span>\n",
       "</label>\n",
       "</div>\n",
       "<script type=\"text/javascript\">\n",
       "                        Biz.Product.CompareConfig.compareItems.push(\"34-234-553\");\n",
       "                        var itemThumbs = new Object();\n",
       "                        itemThumbs.itemNumber = \"34-234-553\";\n",
       "                        itemThumbs.imageUrl = \"//c1.neweggimages.com/ProductImageCompressAll35/34-234-553-V14.jpg\";\n",
       "                        Biz.Product.CompareConfig.Thumbs.push(itemThumbs);\n",
       "                    </script>\n",
       "</div>\n",
       "</div>\n",
       "</div>\n",
       "</div>"
      ]
     },
     "execution_count": 23,
     "metadata": {},
     "output_type": "execute_result"
    }
   ],
   "source": [
    "containers[0]"
   ]
  },
  {
   "cell_type": "code",
   "execution_count": 24,
   "metadata": {},
   "outputs": [],
   "source": [
    "contain = containers[0]"
   ]
  },
  {
   "cell_type": "code",
   "execution_count": 26,
   "metadata": {},
   "outputs": [],
   "source": [
    "container = containers[0]"
   ]
  },
  {
   "cell_type": "code",
   "execution_count": 27,
   "metadata": {},
   "outputs": [
    {
     "data": {
      "text/plain": [
       "<a class=\"item-img\" href=\"https://www.newegg.com/Product/Product.aspx?Item=N82E16834234553&amp;ignorebbr=1\">\n",
       "<img alt='ASUS Laptop B9440UA-XS51 Intel Core i5 7th Gen 7200U (2.50 GHz) 8 GB LPDDR3 Memory 512 GB SSD Intel HD Graphics 620 14.0\" Windows 10 Pro 64-Bit' class=\" lazy-img\" data-effect=\"fadeIn\" data-src=\"//c1.neweggimages.com/NeweggImage/ProductImageCompressAll300/34-234-553-V14.jpg\" src=\"//c1.neweggimages.com/WebResource/Themes/2005/Nest/blank.gif\" title='ASUS Laptop B9440UA-XS51 Intel Core i5 7th Gen 7200U (2.50 GHz) 8 GB LPDDR3 Memory 512 GB SSD Intel HD Graphics 620 14.0\" Windows 10 Pro 64-Bit'>\n",
       "</img></a>"
      ]
     },
     "execution_count": 27,
     "metadata": {},
     "output_type": "execute_result"
    }
   ],
   "source": [
    "container.a"
   ]
  },
  {
   "cell_type": "code",
   "execution_count": 34,
   "metadata": {},
   "outputs": [
    {
     "data": {
      "text/plain": [
       "'ASUS'"
      ]
     },
     "execution_count": 34,
     "metadata": {},
     "output_type": "execute_result"
    }
   ],
   "source": [
    "container.div.div.a.img[\"title\"]"
   ]
  },
  {
   "cell_type": "markdown",
   "metadata": {},
   "source": [
    "w means write mode"
   ]
  },
  {
   "cell_type": "code",
   "execution_count": 40,
   "metadata": {},
   "outputs": [
    {
     "data": {
      "text/plain": [
       "30"
      ]
     },
     "execution_count": 40,
     "metadata": {},
     "output_type": "execute_result"
    }
   ],
   "source": [
    "filename = \"products.csv\"\n",
    "f = open(filename, \"w\")\n",
    "\n",
    "header = \"brand, product_name, shipping\\n\"\n",
    "\n",
    "f.write(header)"
   ]
  },
  {
   "cell_type": "markdown",
   "metadata": {},
   "source": [
    "strip() removes whitespaces\n",
    "replace is used to replace , with | so we can turn it into csv "
   ]
  },
  {
   "cell_type": "code",
   "execution_count": 41,
   "metadata": {},
   "outputs": [
    {
     "name": "stdout",
     "output_type": "stream",
     "text": [
      "brand:ASUS\n",
      "product_name:ASUS PRO B9440 Ultra Thin and Light Business Laptop, 14\" Wideview Full HD Narrow Bezel Display, Intel Core i5-7200U 2.5 GHz Processor, 512 GB SSD, 8 GB RAM, Windows 10 Pro, Fingerprint\n",
      "shipping:$2.99 Shipping\n",
      "brand:Lenovo\n",
      "product_name:Lenovo Laptop IdeaPad 330 81DE00L0US Intel Core i5 8th Gen 8250U (1.60 GHz) 8 GB Memory 256 GB SSD Intel UHD Graphics 620 15.6\" Windows 10 Home 64-Bit\n",
      "shipping:Free Shipping\n",
      "brand:Acer America\n",
      "product_name:Acer Laptop Aspire 5 A515-51G-5504 Intel Core i5 8th Gen 8250U (1.60 GHz) 8 GB Memory 256 GB SSD NVIDIA GeForce MX150 15.6\" Windows 10 Home 64-Bit\n",
      "shipping:$2.99 Shipping\n",
      "brand:Lenovo\n",
      "product_name:Lenovo Laptop IdeaPad 330 81D2005CUS AMD Ryzen 5 2500U (2.00 GHz) 8 GB Memory 256 GB SSD AMD Radeon Vega 8 15.6\" Windows 10 Home 64-Bit\n",
      "shipping:Free Shipping\n",
      "brand:ASUS\n",
      "product_name:ASUS VivoBook S Ultra Thin and Portable Laptop, Intel Core i5-8250U processor, 8 GB DDR4 RAM, 256 GB SSD, NVIDIA GeForce MX150 15.6\" FHD WideView Display, ASUS NanoEdge Bezel, Metal Cover, FingerPrint\n",
      "shipping:$2.99 Shipping\n",
      "brand:Lenovo\n",
      "product_name:Lenovo Laptop ThinkPad E570 (20H50045US) Intel Core i5 7th Gen 7200U (2.50 GHz) 8 GB Memory 256 GB SSD Intel HD Graphics 620 15.6\" Windows 10 Pro 64-Bit\n",
      "shipping:Free Shipping\n",
      "brand:HP\n",
      "product_name:HP Laptop ProBook 450 G5 (2ST09UT#ABA) Intel Core i5 8th Gen 8250U (1.60 GHz) 8 GB Memory 256 GB SSD Intel UHD Graphics 620 15.6\" Windows 10 Pro 64-Bit\n",
      "shipping:$2.99 Shipping\n",
      "brand:ASUS\n",
      "product_name:ASUS ZenBook UX410UA-AS74 Ultra-Slim Laptop 14\" FHD IPS WideView Display, Intel Core i7-8550U Up to 4.00 GHz Processor, 8 GB DDR4, 128 GB SSD + 1 TB HDD, Windows 10, Backlit Keyboard, 3.10 lbs.\n",
      "shipping:$2.99 Shipping\n",
      "brand:HP\n",
      "product_name:HP Laptop ProBook 430 G5 (3BB80UP#ABA) Intel Core i5 8th Gen 8250U (1.60 GHz) 8 GB Memory 128 GB SSD Intel UHD Graphics 620 13.3\" Windows 10 Pro education  64-Bit\n",
      "shipping:Free Shipping\n",
      "brand:HP\n",
      "product_name:HP Stream 14-ax020nr (X7S45UA#ABA) Intel Celeron N3060 (1.60 GHz) 4 GB Memory 32 GB Flash Storage 14\" 1366 x 768 Windows 10 Home\n",
      "shipping:$2.99 Shipping\n"
     ]
    }
   ],
   "source": [
    "for container in containers:\n",
    "    brand = container.div.div.a.img[\"title\"]\n",
    "    \n",
    "    title_container = container.findAll(\"a\", {\"class\":\"item-title\"})\n",
    "    product_name = title_container[0].text\n",
    "    \n",
    "    shipping_container = container.findAll(\"li\", {\"class\":\"price-ship\"})\n",
    "    shipping = shipping_container[0].text.strip()\n",
    "    \n",
    "    print(\"brand:\" + brand)\n",
    "    print(\"product_name:\" + product_name)\n",
    "    print(\"shipping:\" + shipping)\n",
    "    \n",
    "    f.write(brand + \",\" +product_name.replace(\",\",\"|\") + \",\"+shipping + \"\\n\")\n",
    "    \n",
    "f.close()"
   ]
  },
  {
   "cell_type": "code",
   "execution_count": 37,
   "metadata": {},
   "outputs": [
    {
     "name": "stdout",
     "output_type": "stream",
     "text": [
      "brand:HP\n",
      "product_name:HP Stream 14-ax020nr (X7S45UA#ABA) Intel Celeron N3060 (1.60 GHz) 4 GB Memory 32 GB Flash Storage 14\" 1366 x 768 Windows 10 Home\n",
      "shipping:$2.99 Shipping\n"
     ]
    }
   ],
   "source": []
  },
  {
   "cell_type": "code",
   "execution_count": 35,
   "metadata": {},
   "outputs": [
    {
     "data": {
      "text/plain": [
       "[<a class=\"item-title\" href=\"https://www.newegg.com/Product/Product.aspx?Item=N82E16834234553&amp;ignorebbr=1\" title=\"View Details\"><i class=\"icon-premier icon-premier-xsm\"></i>ASUS PRO B9440 Ultra Thin and Light Business Laptop, 14\" Wideview Full HD Narrow Bezel Display, Intel Core i5-7200U 2.5 GHz Processor, 512 GB SSD, 8 GB RAM, Windows 10 Pro, Fingerprint</a>]"
      ]
     },
     "execution_count": 35,
     "metadata": {},
     "output_type": "execute_result"
    }
   ],
   "source": [
    "container.findAll(\"a\", {\"class\":\"item-title\"})"
   ]
  },
  {
   "cell_type": "code",
   "execution_count": null,
   "metadata": {},
   "outputs": [],
   "source": []
  }
 ],
 "metadata": {
  "kernelspec": {
   "display_name": "Python 3",
   "language": "python",
   "name": "python3"
  },
  "language_info": {
   "codemirror_mode": {
    "name": "ipython",
    "version": 3
   },
   "file_extension": ".py",
   "mimetype": "text/x-python",
   "name": "python",
   "nbconvert_exporter": "python",
   "pygments_lexer": "ipython3",
   "version": "3.6.5"
  }
 },
 "nbformat": 4,
 "nbformat_minor": 2
}
